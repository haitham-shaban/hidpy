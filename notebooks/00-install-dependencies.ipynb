{
 "cells": [
  {
   "cell_type": "markdown",
   "metadata": {},
   "source": [
    "# HidPy - Installation of Depdencies\n",
    "+ Auto-installation of all the depedency packages using the selected Python interpreter.\n",
    "+ This notebook to be run only ONCE before running the other notebooks to ensure that all dependencies are successfully installed! \n",
    "\n",
    "_Note: Please do NOT edit this panel._ "
   ]
  },
  {
   "cell_type": "code",
   "execution_count": 1,
   "metadata": {},
   "outputs": [
    {
     "name": "stdout",
     "output_type": "stream",
     "text": [
      "Installing: numpy\n",
      "Requirement already satisfied: numpy in /home/abdellah/.local/lib/python3.8/site-packages (1.22.3)\n",
      "Installing: matplotlib\n",
      "Requirement already satisfied: matplotlib in /home/abdellah/.local/lib/python3.8/site-packages (3.5.1)\n",
      "Requirement already satisfied: cycler>=0.10 in /home/abdellah/.local/lib/python3.8/site-packages (from matplotlib) (0.11.0)\n",
      "Requirement already satisfied: fonttools>=4.22.0 in /home/abdellah/.local/lib/python3.8/site-packages (from matplotlib) (4.30.0)\n",
      "Requirement already satisfied: kiwisolver>=1.0.1 in /home/abdellah/.local/lib/python3.8/site-packages (from matplotlib) (1.3.2)\n",
      "Requirement already satisfied: pillow>=6.2.0 in /home/abdellah/.local/lib/python3.8/site-packages (from matplotlib) (9.0.1)\n",
      "Requirement already satisfied: pyparsing>=2.2.1 in /home/abdellah/.local/lib/python3.8/site-packages (from matplotlib) (3.0.7)\n",
      "Requirement already satisfied: numpy>=1.17 in /home/abdellah/.local/lib/python3.8/site-packages (from matplotlib) (1.22.3)\n",
      "Requirement already satisfied: python-dateutil>=2.7 in /home/abdellah/.local/lib/python3.8/site-packages (from matplotlib) (2.8.2)\n",
      "Requirement already satisfied: packaging>=20.0 in /home/abdellah/.local/lib/python3.8/site-packages (from matplotlib) (21.3)\n",
      "Requirement already satisfied: six>=1.5 in /home/abdellah/.local/lib/python3.8/site-packages (from python-dateutil>=2.7->matplotlib) (1.16.0)\n",
      "Installing: seaborn\n",
      "Requirement already satisfied: seaborn in /home/abdellah/.local/lib/python3.8/site-packages (0.11.2)\n",
      "Requirement already satisfied: numpy>=1.15 in /home/abdellah/.local/lib/python3.8/site-packages (from seaborn) (1.22.3)\n",
      "Requirement already satisfied: scipy>=1.0 in /home/abdellah/.local/lib/python3.8/site-packages (from seaborn) (1.8.0)\n",
      "Requirement already satisfied: matplotlib>=2.2 in /home/abdellah/.local/lib/python3.8/site-packages (from seaborn) (3.5.1)\n",
      "Requirement already satisfied: pandas>=0.23 in /home/abdellah/.local/lib/python3.8/site-packages (from seaborn) (1.4.1)\n",
      "Requirement already satisfied: pillow>=6.2.0 in /home/abdellah/.local/lib/python3.8/site-packages (from matplotlib>=2.2->seaborn) (9.0.1)\n",
      "Requirement already satisfied: python-dateutil>=2.7 in /home/abdellah/.local/lib/python3.8/site-packages (from matplotlib>=2.2->seaborn) (2.8.2)\n",
      "Requirement already satisfied: cycler>=0.10 in /home/abdellah/.local/lib/python3.8/site-packages (from matplotlib>=2.2->seaborn) (0.11.0)\n",
      "Requirement already satisfied: kiwisolver>=1.0.1 in /home/abdellah/.local/lib/python3.8/site-packages (from matplotlib>=2.2->seaborn) (1.3.2)\n",
      "Requirement already satisfied: pyparsing>=2.2.1 in /home/abdellah/.local/lib/python3.8/site-packages (from matplotlib>=2.2->seaborn) (3.0.7)\n",
      "Requirement already satisfied: packaging>=20.0 in /home/abdellah/.local/lib/python3.8/site-packages (from matplotlib>=2.2->seaborn) (21.3)\n",
      "Requirement already satisfied: fonttools>=4.22.0 in /home/abdellah/.local/lib/python3.8/site-packages (from matplotlib>=2.2->seaborn) (4.30.0)\n",
      "Requirement already satisfied: pytz>=2020.1 in /home/abdellah/.local/lib/python3.8/site-packages (from pandas>=0.23->seaborn) (2021.3)\n",
      "Requirement already satisfied: six>=1.5 in /home/abdellah/.local/lib/python3.8/site-packages (from python-dateutil>=2.7->matplotlib>=2.2->seaborn) (1.16.0)\n",
      "Installing: tqdm\n",
      "Requirement already satisfied: tqdm in /home/abdellah/.local/lib/python3.8/site-packages (4.63.0)\n",
      "Installing: pomegranate\n",
      "Requirement already satisfied: pomegranate in /home/abdellah/.local/lib/python3.8/site-packages (0.14.8)\n",
      "Requirement already satisfied: joblib>=0.9.0b4 in /home/abdellah/.local/lib/python3.8/site-packages (from pomegranate) (1.1.0)\n",
      "Requirement already satisfied: pyyaml in /home/abdellah/.local/lib/python3.8/site-packages (from pomegranate) (6.0)\n",
      "Requirement already satisfied: numpy>=1.20.0 in /home/abdellah/.local/lib/python3.8/site-packages (from pomegranate) (1.22.3)\n",
      "Requirement already satisfied: networkx>=2.4 in /home/abdellah/.local/lib/python3.8/site-packages (from pomegranate) (2.6.3)\n",
      "Requirement already satisfied: scipy>=0.17.0 in /home/abdellah/.local/lib/python3.8/site-packages (from pomegranate) (1.8.0)\n",
      "Installing: scipy\n",
      "Requirement already satisfied: scipy in /home/abdellah/.local/lib/python3.8/site-packages (1.8.0)\n",
      "Requirement already satisfied: numpy<1.25.0,>=1.17.3 in /home/abdellah/.local/lib/python3.8/site-packages (from scipy) (1.22.3)\n",
      "Installing: opencv-python\n",
      "Requirement already satisfied: opencv-python in /home/abdellah/.local/lib/python3.8/site-packages (4.6.0.66)\n",
      "Requirement already satisfied: numpy>=1.14.5; python_version >= \"3.7\" in /home/abdellah/.local/lib/python3.8/site-packages (from opencv-python) (1.22.3)\n",
      "Installing: joblib\n",
      "Requirement already satisfied: joblib in /home/abdellah/.local/lib/python3.8/site-packages (1.1.0)\n",
      "Installing: multiprocessing\n",
      "Collecting multiprocessing\n",
      "  Using cached multiprocessing-2.6.2.1.tar.gz (108 kB)\n"
     ]
    },
    {
     "name": "stderr",
     "output_type": "stream",
     "text": [
      "    ERROR: Command errored out with exit status 1:\n",
      "     command: /usr/bin/python3 -c 'import sys, setuptools, tokenize; sys.argv[0] = '\"'\"'/tmp/pip-install-qkssfgdd/multiprocessing/setup.py'\"'\"'; __file__='\"'\"'/tmp/pip-install-qkssfgdd/multiprocessing/setup.py'\"'\"';f=getattr(tokenize, '\"'\"'open'\"'\"', open)(__file__);code=f.read().replace('\"'\"'\\r\\n'\"'\"', '\"'\"'\\n'\"'\"');f.close();exec(compile(code, __file__, '\"'\"'exec'\"'\"'))' egg_info --egg-base /tmp/pip-install-qkssfgdd/multiprocessing/pip-egg-info\n",
      "         cwd: /tmp/pip-install-qkssfgdd/multiprocessing/\n",
      "    Complete output (6 lines):\n",
      "    Traceback (most recent call last):\n",
      "      File \"<string>\", line 1, in <module>\n",
      "      File \"/tmp/pip-install-qkssfgdd/multiprocessing/setup.py\", line 94\n",
      "        print 'Macros:'\n",
      "              ^\n",
      "    SyntaxError: Missing parentheses in call to 'print'. Did you mean print('Macros:')?\n",
      "    ----------------------------------------\n",
      "ERROR: Command errored out with exit status 1: python setup.py egg_info Check the logs for full command output.\n"
     ]
    },
    {
     "ename": "CalledProcessError",
     "evalue": "Command '['/usr/bin/python3', '-m', 'pip', 'install', 'multiprocessing']' returned non-zero exit status 1.",
     "output_type": "error",
     "traceback": [
      "\u001b[0;31m---------------------------------------------------------------------------\u001b[0m",
      "\u001b[0;31mCalledProcessError\u001b[0m                        Traceback (most recent call last)",
      "Cell \u001b[0;32mIn [1], line 23\u001b[0m\n\u001b[1;32m     11\u001b[0m packages \u001b[39m=\u001b[39m [[\u001b[39m'\u001b[39m\u001b[39mnumpy\u001b[39m\u001b[39m'\u001b[39m, \u001b[39m'\u001b[39m\u001b[39m1.22.3\u001b[39m\u001b[39m'\u001b[39m],\n\u001b[1;32m     12\u001b[0m             [\u001b[39m'\u001b[39m\u001b[39mmatplotlib\u001b[39m\u001b[39m'\u001b[39m, \u001b[39m'\u001b[39m\u001b[39m3.5.1\u001b[39m\u001b[39m'\u001b[39m],\n\u001b[1;32m     13\u001b[0m             [\u001b[39m'\u001b[39m\u001b[39mseaborn\u001b[39m\u001b[39m'\u001b[39m, \u001b[39m'\u001b[39m\u001b[39m0.11.2\u001b[39m\u001b[39m'\u001b[39m],\n\u001b[0;32m   (...)\u001b[0m\n\u001b[1;32m     18\u001b[0m             [\u001b[39m'\u001b[39m\u001b[39mjoblib\u001b[39m\u001b[39m'\u001b[39m, \u001b[39m'\u001b[39m\u001b[39m1.1.0\u001b[39m\u001b[39m'\u001b[39m],\n\u001b[1;32m     19\u001b[0m             [\u001b[39m'\u001b[39m\u001b[39mmultiprocessing\u001b[39m\u001b[39m'\u001b[39m, \u001b[39m'\u001b[39m\u001b[39m3.8.1\u001b[39m\u001b[39m'\u001b[39m]]\n\u001b[1;32m     22\u001b[0m \u001b[39mfor\u001b[39;00m package \u001b[39min\u001b[39;00m packages:\n\u001b[0;32m---> 23\u001b[0m     install(package\u001b[39m=\u001b[39;49mpackage)\n",
      "Cell \u001b[0;32mIn [1], line 8\u001b[0m, in \u001b[0;36minstall\u001b[0;34m(package)\u001b[0m\n\u001b[1;32m      6\u001b[0m \u001b[39mimport\u001b[39;00m \u001b[39msys\u001b[39;00m\n\u001b[1;32m      7\u001b[0m \u001b[39mprint\u001b[39m(\u001b[39m'\u001b[39m\u001b[39mInstalling: \u001b[39m\u001b[39m%s\u001b[39;00m\u001b[39m'\u001b[39m \u001b[39m%\u001b[39m package[\u001b[39m0\u001b[39m])\n\u001b[0;32m----> 8\u001b[0m subprocess\u001b[39m.\u001b[39;49mcheck_call([sys\u001b[39m.\u001b[39;49mexecutable, \u001b[39m\"\u001b[39;49m\u001b[39m-m\u001b[39;49m\u001b[39m\"\u001b[39;49m, \u001b[39m\"\u001b[39;49m\u001b[39mpip\u001b[39;49m\u001b[39m\"\u001b[39;49m, \u001b[39m\"\u001b[39;49m\u001b[39minstall\u001b[39;49m\u001b[39m\"\u001b[39;49m, package[\u001b[39m0\u001b[39;49m]])\n",
      "File \u001b[0;32m/usr/lib/python3.8/subprocess.py:364\u001b[0m, in \u001b[0;36mcheck_call\u001b[0;34m(*popenargs, **kwargs)\u001b[0m\n\u001b[1;32m    362\u001b[0m     \u001b[39mif\u001b[39;00m cmd \u001b[39mis\u001b[39;00m \u001b[39mNone\u001b[39;00m:\n\u001b[1;32m    363\u001b[0m         cmd \u001b[39m=\u001b[39m popenargs[\u001b[39m0\u001b[39m]\n\u001b[0;32m--> 364\u001b[0m     \u001b[39mraise\u001b[39;00m CalledProcessError(retcode, cmd)\n\u001b[1;32m    365\u001b[0m \u001b[39mreturn\u001b[39;00m \u001b[39m0\u001b[39m\n",
      "\u001b[0;31mCalledProcessError\u001b[0m: Command '['/usr/bin/python3', '-m', 'pip', 'install', 'multiprocessing']' returned non-zero exit status 1."
     ]
    }
   ],
   "source": [
    "######################### PLEASE DON'T EDIT THIS PANEL #########################\n",
    "from struct import pack\n",
    "\n",
    "def install(package):\n",
    "    import subprocess\n",
    "    import sys\n",
    "    print('Installing: %s' % package[0])\n",
    "    subprocess.check_call([sys.executable, \"-m\", \"pip\", \"install\", package[0]])\n",
    "\n",
    "# Required packages \n",
    "packages = [['numpy', '1.22.3'],\n",
    "            ['matplotlib', '3.5.1'],\n",
    "            ['seaborn', '0.11.2'],\n",
    "            ['tqdm', '4.63.0'],\n",
    "            ['pomegranate', '0.14.8'] ,\n",
    "            ['scipy', '1.8.0'],\n",
    "            ['opencv-python', '4.6.0.66'] ,\n",
    "            ['joblib', '1.1.0'],\n",
    "            ['multiprocessing', '3.8.1']]\n",
    "\n",
    "            \n",
    "for package in packages:\n",
    "    install(package=package)\n",
    "######################### PLEASE DON'T EDIT THIS PANEL #########################"
   ]
  }
 ],
 "metadata": {
  "kernelspec": {
   "display_name": "Python 3.8.10 64-bit",
   "language": "python",
   "name": "python3"
  },
  "language_info": {
   "codemirror_mode": {
    "name": "ipython",
    "version": 3
   },
   "file_extension": ".py",
   "mimetype": "text/x-python",
   "name": "python",
   "nbconvert_exporter": "python",
   "pygments_lexer": "ipython3",
   "version": "3.8.10"
  },
  "orig_nbformat": 4,
  "vscode": {
   "interpreter": {
    "hash": "31f2aee4e71d21fbe5cf8b01ff0e069b9275f58929596ceb00d14d90e3e16cd6"
   }
  }
 },
 "nbformat": 4,
 "nbformat_minor": 2
}
