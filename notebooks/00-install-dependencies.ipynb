{
 "cells": [
  {
   "cell_type": "markdown",
   "metadata": {},
   "source": [
    "# HidPy - Installation of Depdencies\n",
    "+ Auto-installation of all the depedency packages using the selected Python interpreter.\n",
    "+ This notebook to be run only ONCE before running the other notebooks to ensure that all dependencies are successfully installed! \n",
    "\n",
    "_Note: Please do NOT edit this panel._ "
   ]
  },
  {
   "cell_type": "code",
   "execution_count": 19,
   "metadata": {},
   "outputs": [
    {
     "name": "stdout",
     "output_type": "stream",
     "text": [
      "The package [ numpy ] is already installed\n",
      "The package [ matplotlib ] is already installed\n",
      "The package [ seaborn ] is already installed\n",
      "The package [ tqdm ] is already installed\n",
      "The package [ pomegranate ] is already installed\n",
      "The package [ scipy ] is already installed\n",
      "Installing: opencv-python\n",
      "Requirement already satisfied: opencv-python in /home/abdellah/.local/lib/python3.8/site-packages (4.7.0.68)\n",
      "Requirement already satisfied: numpy>=1.17.0; python_version >= \"3.7\" in /home/abdellah/.local/lib/python3.8/site-packages (from opencv-python) (1.22.3)\n",
      "The package [ imageio ] is already installed\n",
      "Installing: scikit-image\n",
      "Requirement already satisfied: scikit-image in /home/abdellah/.local/lib/python3.8/site-packages (0.21.0)\n",
      "Requirement already satisfied: numpy>=1.21.1 in /home/abdellah/.local/lib/python3.8/site-packages (from scikit-image) (1.22.3)\n",
      "Requirement already satisfied: pillow>=9.0.1 in /home/abdellah/.local/lib/python3.8/site-packages (from scikit-image) (9.1.0)\n",
      "Requirement already satisfied: packaging>=21 in /home/abdellah/.local/lib/python3.8/site-packages (from scikit-image) (21.3)\n",
      "Requirement already satisfied: PyWavelets>=1.1.1 in /home/abdellah/.local/lib/python3.8/site-packages (from scikit-image) (1.4.1)\n",
      "Requirement already satisfied: scipy>=1.8 in /home/abdellah/.local/lib/python3.8/site-packages (from scikit-image) (1.8.0)\n",
      "Requirement already satisfied: networkx>=2.8 in /home/abdellah/.local/lib/python3.8/site-packages (from scikit-image) (2.8.8)\n",
      "Requirement already satisfied: lazy_loader>=0.2 in /home/abdellah/.local/lib/python3.8/site-packages (from scikit-image) (0.3)\n",
      "Requirement already satisfied: imageio>=2.27 in /home/abdellah/.local/lib/python3.8/site-packages (from scikit-image) (2.31.1)\n",
      "Requirement already satisfied: tifffile>=2022.8.12 in /home/abdellah/.local/lib/python3.8/site-packages (from scikit-image) (2023.7.10)\n",
      "Requirement already satisfied: pyparsing!=3.0.5,>=2.0.2 in /home/abdellah/.local/lib/python3.8/site-packages (from packaging>=21->scikit-image) (3.0.8)\n",
      "The package [ joblib ] is already installed\n",
      "The multiprocessing is already integrated and needs no installation\n"
     ]
    }
   ],
   "source": [
    "######################### PLEASE DON'T EDIT THIS PANEL #########################\n",
    "def install(package):\n",
    "    import subprocess\n",
    "    import sys\n",
    "    try:\n",
    "        __import__(package[0]) \n",
    "        print('The package [ %s ] is already installed' % package[0])\n",
    "    except ImportError:\n",
    "        try:\n",
    "            print('Installing: %s' % package[0])\n",
    "            subprocess.check_call([sys.executable, \"-m\", \"pip\", \"install\", package[0]])\n",
    "        except:\n",
    "            print('The package [ %s ] could not be installed' % package[0])\n",
    "            exit(0) \n",
    "        \n",
    "def install_multiprocessing():\n",
    "    import subprocess\n",
    "    from packaging import version\n",
    "    import sys \n",
    "    import platform \n",
    "    if version.parse(str(platform.python_version())) > version.parse(\"3.6.0\"):\n",
    "        print('The multiprocessing is already integrated and needs no installation')\n",
    "    else:\n",
    "        print('Installing: multiprocessing')\n",
    "        subprocess.check_call([sys.executable, \"-m\", \"pip\", \"install\", \"multiprocessing\"])\n",
    "    \n",
    "# Required packages \n",
    "packages = [['numpy', '1.22.3'],\n",
    "            ['matplotlib', '3.5.1'],\n",
    "            ['seaborn', '0.11.2'],\n",
    "            ['tqdm', '4.63.0'],\n",
    "            ['pomegranate', '0.14.8'] ,\n",
    "            ['scipy', '1.8.0'],\n",
    "            ['opencv-python', '4.6.0.66'],\n",
    "            ['imageio', '2.31.1'],\n",
    "            ['scikit-image', '0.21.0'],\n",
    "            ['joblib', '1.1.0'],\n",
    "            ['xlsxwriter', '3.1.2']]\n",
    "\n",
    "# Install the main packages that are required to run hidpy\n",
    "for package in packages:\n",
    "    install(package=package)\n",
    "    \n",
    "# Install the multiprocessing package  \n",
    "install_multiprocessing()\n",
    "######################### PLEASE DON'T EDIT THIS PANEL #########################"
   ]
  }
 ],
 "metadata": {
  "kernelspec": {
   "display_name": "Python 3.8.10 64-bit",
   "language": "python",
   "name": "python3"
  },
  "language_info": {
   "codemirror_mode": {
    "name": "ipython",
    "version": 3
   },
   "file_extension": ".py",
   "mimetype": "text/x-python",
   "name": "python",
   "nbconvert_exporter": "python",
   "pygments_lexer": "ipython3",
   "version": "3.8.10"
  },
  "orig_nbformat": 4,
  "vscode": {
   "interpreter": {
    "hash": "31f2aee4e71d21fbe5cf8b01ff0e069b9275f58929596ceb00d14d90e3e16cd6"
   }
  }
 },
 "nbformat": 4,
 "nbformat_minor": 2
}
