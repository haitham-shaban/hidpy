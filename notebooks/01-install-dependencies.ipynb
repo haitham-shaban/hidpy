{
 "cells": [
  {
   "cell_type": "markdown",
   "metadata": {},
   "source": [
    "## Installation of Depdencies"
   ]
  },
  {
   "cell_type": "code",
   "execution_count": null,
   "metadata": {},
   "outputs": [],
   "source": [
    "######################### PLEASE DON'T EDIT THIS PANEL #########################\n",
    "# Auto-installation of all the depedency packages \n",
    "# This notebook to be run only ONCE before running the other \n",
    "# notebooks to ensure that all dependencies are successfully installed!  \n",
    "# TODO: Add all the deps to a .dep file that can be loaded to avoid duplicating code! \n",
    "from struct import pack\n",
    "\n",
    "def install(package):\n",
    "    import subprocess\n",
    "    import sys\n",
    "    print('Installing: %s' % package)\n",
    "    subprocess.check_call([sys.executable, \"-m\", \"pip\", \"install\", package])\n",
    "\n",
    "# Required packages \n",
    "packages = ['matplotlib', \n",
    "            'seaborn', \n",
    "            'tqdm', \n",
    "            'pomegranate', \n",
    "            'scipy', \n",
    "            'opencv-python', \n",
    "            'joblib', \n",
    "            'multiprocessing']\n",
    "            \n",
    "for package in packages:\n",
    "    install(package=package)\n",
    "######################### PLEASE DON'T EDIT THIS PANEL #########################"
   ]
  }
 ],
 "metadata": {
  "kernelspec": {
   "display_name": "Python 3.8.10 64-bit",
   "language": "python",
   "name": "python3"
  },
  "language_info": {
   "codemirror_mode": {
    "name": "ipython",
    "version": 3
   },
   "file_extension": ".py",
   "mimetype": "text/x-python",
   "name": "python",
   "nbconvert_exporter": "python",
   "pygments_lexer": "ipython3",
   "version": "3.8.10"
  },
  "orig_nbformat": 4,
  "vscode": {
   "interpreter": {
    "hash": "31f2aee4e71d21fbe5cf8b01ff0e069b9275f58929596ceb00d14d90e3e16cd6"
   }
  }
 },
 "nbformat": 4,
 "nbformat_minor": 2
}
