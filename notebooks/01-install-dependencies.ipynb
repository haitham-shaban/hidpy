{
 "cells": [
  {
   "cell_type": "markdown",
   "metadata": {},
   "source": [
    "# HidPy - Installation of Depdencies\n",
    "+ Auto-installation of all the depedency packages using the selected Python interpreter.\n",
    "+ This notebook to be run only ONCE before running the other notebooks to ensure that all dependencies are successfully installed! \n",
    "+ Please do NOT edit this panel.  "
   ]
  },
  {
   "cell_type": "code",
   "execution_count": null,
   "metadata": {},
   "outputs": [],
   "source": [
    "######################### PLEASE DON'T EDIT THIS PANEL #########################\n",
    "from struct import pack\n",
    "\n",
    "def install(package):\n",
    "    import subprocess\n",
    "    import sys\n",
    "    print('Installing: %s' % package[0])\n",
    "    subprocess.check_call([sys.executable, \"-m\", \"pip\", \"install\", package[0]])\n",
    "\n",
    "# Required packages \n",
    "packages = [['numpy', '1.22.3'],\n",
    "            ['matplotlib', '3.5.1'],\n",
    "            ['seaborn', '0.11.2'],\n",
    "            ['tqdm', '4.63.0'],\n",
    "            ['pomegranate', '0.14.8'] ,\n",
    "            ['scipy', '1.8.0'],\n",
    "            ['opencv-python', '4.6.0.66'] ,\n",
    "            ['joblib', '1.1.0'],\n",
    "            ['multiprocessing', '3.8.1']]\n",
    "\n",
    "            \n",
    "for package in packages:\n",
    "    install(package=package)\n",
    "######################### PLEASE DON'T EDIT THIS PANEL #########################"
   ]
  }
 ],
 "metadata": {
  "kernelspec": {
   "display_name": "Python 3.8.10 64-bit",
   "language": "python",
   "name": "python3"
  },
  "language_info": {
   "codemirror_mode": {
    "name": "ipython",
    "version": 3
   },
   "file_extension": ".py",
   "mimetype": "text/x-python",
   "name": "python",
   "nbconvert_exporter": "python",
   "pygments_lexer": "ipython3",
   "version": "3.8.10"
  },
  "orig_nbformat": 4,
  "vscode": {
   "interpreter": {
    "hash": "31f2aee4e71d21fbe5cf8b01ff0e069b9275f58929596ceb00d14d90e3e16cd6"
   }
  }
 },
 "nbformat": 4,
 "nbformat_minor": 2
}
