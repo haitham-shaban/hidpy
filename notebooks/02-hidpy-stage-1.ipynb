{
 "cells": [
  {
   "cell_type": "markdown",
   "metadata": {},
   "source": [
    "Verify the imports\n",
    "NOTE: Please do NOT edit this panel! "
   ]
  },
  {
   "cell_type": "markdown",
   "metadata": {},
   "source": [
    "# HidPy - Stage 1\n",
    "\n",
    "## About\n",
    "This is the first stage of the HidPy workflow. It loads the input video sequence, computes the optical flow maps, computes the trajectories, computes the MSD and applies Baysien inference to the MSD."
   ]
  },
  {
   "cell_type": "markdown",
   "metadata": {},
   "source": [
    "## 1.1 Import the system package"
   ]
  },
  {
   "cell_type": "code",
   "execution_count": 1,
   "metadata": {},
   "outputs": [],
   "source": [
    "# System packages \n",
    "import os\n",
    "import pathlib \n",
    "import sys \n",
    "import warnings\n",
    "warnings.filterwarnings('ignore') # Ignore all the warnings \n",
    "\n",
    "# Path hidpy\n",
    "sys.path.append('%s/../' % os.getcwd())\n",
    "\n",
    "# Internal packages \n",
    "import core \n",
    "from core import file_utils\n",
    "from core import optical_flow\n",
    "from core import video_processing\n",
    "from core import plotting\n",
    "from core import msd\n",
    "from core import inference"
   ]
  },
  {
   "cell_type": "markdown",
   "metadata": {},
   "source": [
    "## 1.2 Input Panel\n",
    "The user must update the input parameters before running the pipeline. \n",
    "_Notes_\n",
    "+ The __pixel threshold__ value is selected based on trial and error. After loading the sequence, compute the trajectories and verify if the computed trajectories are acceptable to run the MSD step or not. \n",
    "+ The __pixel size__ and __dt__ values are obtained from the meta-data associated with the imaging sequence. \n",
    "+ The current implementation supports loading video sequences in __.avi__ and __.mp4__ formats. If you have any __.tiff__ sequences, use Fiji to convert them. \n",
    "+ The analysis results will be generated to the __root output directory__.  "
   ]
  },
  {
   "cell_type": "code",
   "execution_count": 55,
   "metadata": {},
   "outputs": [],
   "source": [
    "# Input video sequence (single sequence)   \n",
    "video_sequence = '%s/../data/protocol/rna/rna.avi' % os.getcwd()\n",
    "\n",
    "# Pixel threshold, this value should be tested with trial-and-error\n",
    "pixel_threshold = 90\n",
    "\n",
    "# Pixel size (should be in microns, and should be known from the microscope camera)\n",
    "pixel_size = 0.088 # This is for the confocal samples  \n",
    "# pixel_size = 0.042 # This is for the SIM samples \n",
    "\n",
    "# Time step (should be in seconds)\n",
    "dt = 0.200  \n",
    "\n",
    "# The models. Users must either select all or some of them  \n",
    "models_selected = ['D','DA','V','DV','DAV'] \n",
    "\n",
    "# Output directory \n",
    "root_output_directory = '%s/../output-protocol/' % os.getcwd()\n",
    "\n",
    "# Get the prefix, typically with the name of the video sequence  \n",
    "prefix = '%s_pixel-%2.2f_dt-%2.2f_threshold_%s' % (pathlib.Path(video_sequence).stem, pixel_size, dt, pixel_threshold)"
   ]
  },
  {
   "cell_type": "markdown",
   "metadata": {},
   "source": [
    "## 1.3 Load Video Sequence\n",
    "In this stage, we verify that the given data by the user is correct and load the view sequnce to start the procedure. \n",
    "\n",
    "_Note: Please do NOT edit this panel._ "
   ]
  },
  {
   "cell_type": "code",
   "execution_count": null,
   "metadata": {},
   "outputs": [],
   "source": [
    "# Verify the input parameters, and return the path where the output data will be written  \n",
    "output_directory = file_utils.veryify_input_options(\n",
    "    video_sequence=video_sequence, output_directory=root_output_directory, \n",
    "    pixel_threshold=pixel_threshold, pixel_size=pixel_size, dt=dt)\n",
    "\n",
    "# Load the frames from the video \n",
    "frames = video_processing.get_frames_list_from_video(\n",
    "    video_path=video_sequence, verbose=True)"
   ]
  },
  {
   "cell_type": "markdown",
   "metadata": {},
   "source": [
    "## 1.4 Plot Video Frames\n",
    "\n",
    "In this stage, we display the first frame of the view sequence to use it as a reference for the optical flow maps and the trajectories computed later. \n",
    "\n",
    "_Note: Please do NOT edit this panel._ "
   ]
  },
  {
   "cell_type": "code",
   "execution_count": null,
   "metadata": {},
   "outputs": [],
   "source": [
    "# Plot the first frames\n",
    "plotting.verify_plotting_packages()\n",
    "plotting.plot_frame(frame=frames[0], output_directory=output_directory, \n",
    "    frame_prefix=prefix, font_size=14, tick_count=3)"
   ]
  },
  {
   "cell_type": "markdown",
   "metadata": {},
   "source": [
    "## 1.5 Compute Optical Flow\n",
    "\n",
    "In this stage, we compute the optical flow fields using the OpenCV implementation of the Farenback algorithm.\n",
    "\n",
    "_Note: Please do NOT edit this panel._ "
   ]
  },
  {
   "cell_type": "code",
   "execution_count": null,
   "metadata": {},
   "outputs": [],
   "source": [
    "# Compute the optical flow\n",
    "print('* Computing optical flow') \n",
    "u, v = optical_flow.compute_optical_flow_farneback(frames=frames)"
   ]
  },
  {
   "cell_type": "markdown",
   "metadata": {},
   "source": [
    "## 1.6 Interpolate Optical Flow Fields\n",
    "\n",
    "In this stage, we interpolate the resulting optical flow field and generate floating-point maps. \n",
    "\n",
    "_Note: Please do NOT edit this panel._ "
   ]
  },
  {
   "cell_type": "code",
   "execution_count": null,
   "metadata": {},
   "outputs": [],
   "source": [
    "# Interpolate the flow field\n",
    "print('* Computing interpolations')\n",
    "u, v = optical_flow.interpolate_flow_fields(u_arrays=u, v_arrays=v)"
   ]
  },
  {
   "cell_type": "markdown",
   "metadata": {},
   "source": [
    "## 1.7 Create Trajectories\n",
    "\n",
    "In this stage, we create the trajectories and plot them projected on the input image. \n",
    "\n",
    "_Note: This stage is significant to verify if the pixel threshold value used earlier was valid or not. If the result was noisy or sparse, please set a new value for the pixel threshold in stage 1.2._\n",
    "\n",
    "_Note: Please do NOT edit this panel._ "
   ]
  },
  {
   "cell_type": "code",
   "execution_count": null,
   "metadata": {},
   "outputs": [],
   "source": [
    "# Compute the trajectories \n",
    "print('* Creating trajectories')\n",
    "trajectories = optical_flow.compute_trajectories(\n",
    "    frame=frames[0], fu_arrays=u, fv_arrays=v, pixel_threshold=pixel_threshold)\n",
    "    \n",
    "# Plot the trajectories \n",
    "print('* Plotting trajectories')\n",
    "trajectory_image_prefix = '%s_trajectory' % prefix\n",
    "plotting.plot_trajectories_on_frame(\n",
    "    frame=frames[0], trajectories=trajectories, \n",
    "    output_path='%s/%s' % (output_directory, trajectory_image_prefix))"
   ]
  },
  {
   "cell_type": "markdown",
   "metadata": {},
   "source": [
    "## 1.8 Compute the Mean Square Displacement (MSD) Map and Fit the Models using Bayesian inference\n",
    "\n",
    "_Note: This process use the parallel CPU cores using the joblib and multiprocessing library._\n",
    "\n",
    "_Note: Please do NOT edit this panel._ "
   ]
  },
  {
   "cell_type": "code",
   "execution_count": null,
   "metadata": {},
   "outputs": [],
   "source": [
    "# Calculation of the MSD (mean square displacement)\n",
    "\n",
    "# Construct trajectory map\n",
    "print('* Converting the trajectories to maps')\n",
    "xp, yp = msd.convert_trajectories_to_map(trajectories, (len(frames), frames[0].shape[0], frames[0].shape[1]))\n",
    "\n",
    "# Convert displacement values to microns\n",
    "xp_um = xp * pixel_size\n",
    "yp_um = yp * pixel_size\n",
    "\n",
    "# Extract nucleoli mask\n",
    "print('* Extracting the nucleoli mask')\n",
    "mask_nucleoli = msd.extract_nucleoli_map(xp_um, yp_um)\n",
    "\n",
    "# Compute the MSDs\n",
    "print('* Computing the MSDs')\n",
    "msd_array = msd.calculate_msd_for_every_pixel(xp_um, yp_um, mask_nucleoli)\n",
    "\n",
    "# Compute the inference, Baysian fit on MSDs \n",
    "print('* Fitting the MSDs models using Bayesian inference')\n",
    "warnings.filterwarnings('ignore') # Ignore all the warnings \n",
    "bayes = inference.apply_bayesian_inference(msd_array, dt, models_selected)"
   ]
  },
  {
   "cell_type": "markdown",
   "metadata": {},
   "source": [
    "## 1.9 Plot the maps of the Diffusion Constant, Anomalous Exponent and Drift Velocity \n",
    "\n",
    "_Note: Please do NOT edit this panel._ "
   ]
  },
  {
   "cell_type": "code",
   "execution_count": null,
   "metadata": {},
   "outputs": [],
   "source": [
    "import numpy as np\n",
    "import core \n",
    "\n",
    "# The matrix that contains the mask of the nucli\n",
    "# TODO: What is the hard-coded value of 100?\n",
    "mask_matrix = np.zeros((frames[0].shape[0], frames[0].shape[1]))\n",
    "mask_matrix[np.where(mask_nucleoli == 1) ] = 100\n",
    "\n",
    "# Get the diffusion constant map (D)\n",
    "diffusion_constant_matrix = bayes['D']\n",
    "diffusion_constant_matrix[np.where(bayes['model'] == 0)] = np.nan\n",
    "diffusion_constant_matrix[np.where(bayes['D'] < 1e-10)] = np.nan\n",
    "\n",
    "# Get the anomalous exponent matrix (A)\n",
    "anomalous_exponent_matrx = bayes['A']\n",
    "anomalous_exponent_matrx[np.where(bayes['model'] == 0)] = np.nan\n",
    "anomalous_exponent_matrx[np.where(bayes['A'] < 1e-10)] = np.nan\n",
    "\n",
    "# Get the drift velocity matrix (V)\n",
    "drift_velocity_matrix = bayes['V']\n",
    "drift_velocity_matrix[np.where(bayes['model'] == 0)] = np.nan\n",
    "drift_velocity_matrix[np.where(bayes['V']==0)] = np.nan\n",
    "\n",
    "# Plot the model selection image \n",
    "model_selection_image_prefix = '%s_model_selection' % prefix\n",
    "core.plotting.plot_model_selection_image(\n",
    "    model_selection_matrix=bayes['model'], mask_matrix=mask_matrix, \n",
    "    output_directory=output_directory, frame_prefix=model_selection_image_prefix, \n",
    "    font_size=14, title='Model Selection', tick_count=3)\n",
    "\n",
    "# Plot the diffusion constant matrix\n",
    "d_map_image_prefix = '%s_diffusion_constant_matrix' % prefix\n",
    "core.plotting.plot_matrix_map(\n",
    "    matrix=diffusion_constant_matrix, mask_matrix=mask_matrix, \n",
    "    output_directory=output_directory, frame_prefix=d_map_image_prefix, \n",
    "    font_size=14, title=r'Diffusion Constant ($\\mu$m$^2$/s)', tick_count=3)\n",
    "\n",
    "# Plot the anomalous matrix\n",
    "a_map_image_prefix = '%s_anomalous_matrix' % prefix\n",
    "core.plotting.plot_matrix_map(\n",
    "    matrix=anomalous_exponent_matrx, mask_matrix=mask_matrix, \n",
    "    output_directory=output_directory, frame_prefix=a_map_image_prefix, \n",
    "    font_size=14, title='Anomalous Exponent', tick_count=3)\n",
    "\n",
    "# Plot the drift velocity matrix\n",
    "v_map_image_prefix = '%s_drift_velocity_matrix' % prefix\n",
    "core.plotting.plot_matrix_map(\n",
    "    matrix=drift_velocity_matrix, mask_matrix=mask_matrix, \n",
    "    output_directory=output_directory, frame_prefix=v_map_image_prefix, \n",
    "    font_size=14, title=r'Drift Velocity ($\\mu$m/s)', tick_count=3)"
   ]
  },
  {
   "cell_type": "markdown",
   "metadata": {},
   "source": [
    "## 1.10 Store the Intermediate Results \n",
    "\n",
    "_Note: Verify the path of the results and ensure that the input path to Stage 2.1 is the same._\n",
    "\n",
    "_Note: Please do NOT edit this panel._ "
   ]
  },
  {
   "cell_type": "code",
   "execution_count": 46,
   "metadata": {},
   "outputs": [],
   "source": [
    "# Save pickle file per cell\n",
    "import pickle\n",
    "\n",
    "# Create the pickle directory \n",
    "pickle_directory = '%s/pickle' % output_directory\n",
    "file_utils.create_directory(pickle_directory)\n",
    "\n",
    "# Save the pickle file \n",
    "with open('%s/%s.pickle' % (pickle_directory, prefix), 'wb') as f:\n",
    "    pickle.dump(bayes, f)"
   ]
  },
  {
   "cell_type": "markdown",
   "metadata": {},
   "source": [
    "## 1.11 Create the HTML Report\n",
    "\n",
    "Generate an HTML report summarizing and tabulating the analysis results of Stage 1."
   ]
  },
  {
   "cell_type": "code",
   "execution_count": 47,
   "metadata": {},
   "outputs": [],
   "source": [
    "# Generate report \n",
    "file_utils.create_report_1_summary(output_directory=output_directory,\n",
    "                                   frame_0=prefix,\n",
    "                                   trajectory=trajectory_image_prefix,\n",
    "                                   model_selection=model_selection_image_prefix, \n",
    "                                   d_map=d_map_image_prefix, \n",
    "                                   a_map=a_map_image_prefix,\n",
    "                                   v_map=v_map_image_prefix)"
   ]
  }
 ],
 "metadata": {
  "kernelspec": {
   "display_name": "Python 3.8.10 64-bit",
   "language": "python",
   "name": "python3"
  },
  "language_info": {
   "codemirror_mode": {
    "name": "ipython",
    "version": 3
   },
   "file_extension": ".py",
   "mimetype": "text/x-python",
   "name": "python",
   "nbconvert_exporter": "python",
   "pygments_lexer": "ipython3",
   "version": "3.8.10"
  },
  "vscode": {
   "interpreter": {
    "hash": "31f2aee4e71d21fbe5cf8b01ff0e069b9275f58929596ceb00d14d90e3e16cd6"
   }
  }
 },
 "nbformat": 4,
 "nbformat_minor": 2
}
